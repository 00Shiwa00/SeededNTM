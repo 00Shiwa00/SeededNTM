{
 "cells": [
  {
   "cell_type": "code",
   "execution_count": 1,
   "metadata": {},
   "outputs": [
    {
     "name": "stdout",
     "output_type": "stream",
     "text": [
      "4\n",
      "Building vocabulary...\n",
      "Initial vocabulary size: 9\n",
      "Tokenizing documents and splitting into train/test...\n",
      "vocabulary after removing words not in train: 9\n",
      "Number of documents (train_dataset): 4 [this should be equal to 4]\n",
      "Number of documents (test_dataset): 0 [this should be equal to 0]\n",
      "Removing empty documents...\n",
      "len(words_train):  12\n",
      "len(words_test):  0\n",
      "len(words_ts_h1):  0\n",
      "len(words_ts_h2):  0\n",
      "len(np.unique(doc_indices_train)): 4 [this should be 4]\n",
      "len(np.unique(doc_indices_test)): 0 [this should be 0]\n",
      "len(np.unique(doc_indices_test_h1)): 0 [this should be 0]\n",
      "len(np.unique(doc_indices_test_h2)): 0 [this should be 0]\n",
      "\n",
      "\n",
      "cuda\n"
     ]
    },
    {
     "name": "stderr",
     "output_type": "stream",
     "text": [
      "s:\\Master\\seededNTM\\utils\\word_level_augment.py:189: RuntimeWarning: invalid value encountered in divide\n",
      "  replace_prob = (replace_prob / replace_prob.sum() *\n"
     ]
    },
    {
     "name": "stdout",
     "output_type": "stream",
     "text": [
      "Adam (\n",
      "Parameter Group 0\n",
      "    amsgrad: False\n",
      "    betas: (0.9, 0.999)\n",
      "    capturable: False\n",
      "    differentiable: False\n",
      "    eps: 1e-08\n",
      "    foreach: None\n",
      "    fused: None\n",
      "    lr: 0.001\n",
      "    maximize: False\n",
      "    weight_decay: 1.2e-06\n",
      "\n",
      "Parameter Group 1\n",
      "    amsgrad: False\n",
      "    betas: (0.9, 0.999)\n",
      "    capturable: False\n",
      "    differentiable: False\n",
      "    eps: 1e-08\n",
      "    foreach: None\n",
      "    fused: None\n",
      "    lr: 0.001\n",
      "    maximize: False\n",
      "    weight_decay: 1.2e-06\n",
      ")\n",
      "fit\n",
      "fin set data\n",
      "set data\n",
      "20\n",
      "train epoch: 1\n"
     ]
    },
    {
     "name": "stderr",
     "output_type": "stream",
     "text": [
      "batch 1: 100%|██████████| 2/2 [00:00<00:00,  3.61it/s]\n"
     ]
    },
    {
     "name": "stdout",
     "output_type": "stream",
     "text": [
      "Epoch 1 - Learning Rate: 0.001 - KL theta: 0.58 - Rec loss: 21.59 - PLoss: 80.76 - NELBO: 102.93 - L_d:1.6929693818092346 - L_w: 115.08012008666992 - L_c:44.75559997558594 -\n",
      "other\tstar\tdemo\ttext\ttopic\tscifi\tgun\texample\tcontain\n",
      "scifi\tgun\tstar\texample\tdemo\tother\ttext\tcontain\ttopic\n",
      "train epoch: 2\n"
     ]
    },
    {
     "name": "stderr",
     "output_type": "stream",
     "text": [
      "batch 2: 100%|██████████| 2/2 [00:00<00:00,  4.52it/s]"
     ]
    },
    {
     "name": "stdout",
     "output_type": "stream",
     "text": [
      "Epoch 2 - Learning Rate: 0.001 - KL theta: 0.73 - Rec loss: 24.7 - PLoss: 71.5 - NELBO: 96.93 - L_d:2.498743414878845 - L_w: 99.75601196289062 - L_c:40.75519561767578 -\n",
      "other\tstar\tdemo\ttext\ttopic\tscifi\tgun\texample\tcontain\n",
      "scifi\tgun\tstar\texample\tdemo\tother\ttext\tcontain\ttopic\n",
      "Visualizing ...\n",
      "              precision    recall  f1-score   support\n",
      "\n",
      "           0       0.50      0.50      0.50         2\n",
      "           1       0.50      0.50      0.50         2\n",
      "\n",
      "    accuracy                           0.50         4\n",
      "   macro avg       0.50      0.50      0.50         4\n",
      "weighted avg       0.50      0.50      0.50         4\n",
      "\n"
     ]
    },
    {
     "name": "stderr",
     "output_type": "stream",
     "text": [
      "\n"
     ]
    },
    {
     "data": {
      "image/png": "[encoded data removed]",
      "text/plain": [
       "<Figure size 640x480 with 2 Axes>"
      ]
     },
     "metadata": {},
     "output_type": "display_data"
    },
    {
     "name": "stdout",
     "output_type": "stream",
     "text": [
      "Done.\n",
      "train epoch: 3\n"
     ]
    },
    {
     "name": "stderr",
     "output_type": "stream",
     "text": [
      "batch 3: 100%|██████████| 2/2 [00:00<00:00,  4.56it/s]\n"
     ]
    },
    {
     "name": "stdout",
     "output_type": "stream",
     "text": [
      "Epoch 3 - Learning Rate: 0.001 - KL theta: 0.84 - Rec loss: 25.68 - PLoss: 108.07 - NELBO: 134.59 - L_d:3.8214995861053467 - L_w: 95.30864715576172 - L_c:117.00616073608398 -\n",
      "other\tstar\tdemo\ttext\ttopic\tscifi\tgun\texample\tcontain\n",
      "scifi\tgun\tstar\texample\tdemo\tother\ttext\tcontain\ttopic\n",
      "train epoch: 4\n"
     ]
    },
    {
     "name": "stderr",
     "output_type": "stream",
     "text": [
      "batch 4: 100%|██████████| 2/2 [00:00<00:00,  4.71it/s]"
     ]
    },
    {
     "name": "stdout",
     "output_type": "stream",
     "text": [
      "Epoch 4 - Learning Rate: 0.001 - KL theta: 0.97 - Rec loss: 22.35 - PLoss: 75.82 - NELBO: 99.14 - L_d:1.6868259906768799 - L_w: 92.32073593139648 - L_c:57.63064956665039 -\n",
      "other\tstar\tdemo\ttext\ttopic\tscifi\tgun\texample\tcontain\n",
      "scifi\tgun\tstar\texample\tdemo\tother\ttext\tcontain\ttopic\n",
      "Visualizing ...\n",
      "              precision    recall  f1-score   support\n",
      "\n",
      "           0       0.00      0.00      0.00       2.0\n",
      "           1       0.00      0.00      0.00       2.0\n",
      "\n",
      "    accuracy                           0.00       4.0\n",
      "   macro avg       0.00      0.00      0.00       4.0\n",
      "weighted avg       0.00      0.00      0.00       4.0\n",
      "\n"
     ]
    },
    {
     "name": "stderr",
     "output_type": "stream",
     "text": [
      "\n"
     ]
    },
    {
     "data": {
      "image/png": "[encoded data removed]",
      "text/plain": [
       "<Figure size 640x480 with 2 Axes>"
      ]
     },
     "metadata": {},
     "output_type": "display_data"
    },
    {
     "name": "stdout",
     "output_type": "stream",
     "text": [
      "Done.\n",
      "train epoch: 5\n"
     ]
    },
    {
     "name": "stderr",
     "output_type": "stream",
     "text": [
      "batch 5: 100%|██████████| 2/2 [00:00<00:00,  4.76it/s]\n"
     ]
    },
    {
     "name": "stdout",
     "output_type": "stream",
     "text": [
      "Epoch 5 - Learning Rate: 0.001 - KL theta: 1.14 - Rec loss: 22.22 - PLoss: 79.0 - NELBO: 102.36 - L_d:2.2502174973487854 - L_w: 89.82258605957031 - L_c:65.93384552001953 -\n",
      "other\tstar\tdemo\ttext\ttopic\tscifi\tgun\texample\tcontain\n",
      "scifi\tgun\tstar\texample\tdemo\tother\ttext\tcontain\ttopic\n",
      "train epoch: 6\n"
     ]
    },
    {
     "name": "stderr",
     "output_type": "stream",
     "text": [
      "batch 6: 100%|██████████| 2/2 [00:00<00:00,  4.81it/s]"
     ]
    },
    {
     "name": "stdout",
     "output_type": "stream",
     "text": [
      "Epoch 6 - Learning Rate: 0.001 - KL theta: 1.23 - Rec loss: 22.18 - PLoss: 100.84 - NELBO: 124.25 - L_d:1.7038996815681458 - L_w: 83.1307373046875 - L_c:116.84774780273438 -\n",
      "other\tstar\tdemo\ttext\ttopic\tscifi\tgun\texample\tcontain\n",
      "scifi\tgun\tstar\texample\tdemo\tother\ttext\tcontain\ttopic\n",
      "Visualizing ...\n",
      "              precision    recall  f1-score   support\n",
      "\n",
      "           0       0.00      0.00      0.00         2\n",
      "           1       0.50      1.00      0.67         2\n",
      "\n",
      "    accuracy                           0.50         4\n",
      "   macro avg       0.25      0.50      0.33         4\n",
      "weighted avg       0.25      0.50      0.33         4\n",
      "\n"
     ]
    },
    {
     "name": "stderr",
     "output_type": "stream",
     "text": [
      "\n",
      "d:\\Programme\\Anaconda3\\Lib\\site-packages\\sklearn\\metrics\\_classification.py:1344: UndefinedMetricWarning: Precision and F-score are ill-defined and being set to 0.0 in labels with no predicted samples. Use `zero_division` parameter to control this behavior.\n",
      "  _warn_prf(average, modifier, msg_start, len(result))\n",
      "d:\\Programme\\Anaconda3\\Lib\\site-packages\\sklearn\\metrics\\_classification.py:1344: UndefinedMetricWarning: Precision and F-score are ill-defined and being set to 0.0 in labels with no predicted samples. Use `zero_division` parameter to control this behavior.\n",
      "  _warn_prf(average, modifier, msg_start, len(result))\n",
      "d:\\Programme\\Anaconda3\\Lib\\site-packages\\sklearn\\metrics\\_classification.py:1344: UndefinedMetricWarning: Precision and F-score are ill-defined and being set to 0.0 in labels with no predicted samples. Use `zero_division` parameter to control this behavior.\n",
      "  _warn_prf(average, modifier, msg_start, len(result))\n"
     ]
    },
    {
     "data": {
      "image/png": "[encoded data removed]",
      "text/plain": [
       "<Figure size 640x480 with 2 Axes>"
      ]
     },
     "metadata": {},
     "output_type": "display_data"
    },
    {
     "name": "stdout",
     "output_type": "stream",
     "text": [
      "Done.\n",
      "train epoch: 7\n"
     ]
    },
    {
     "name": "stderr",
     "output_type": "stream",
     "text": [
      "batch 7: 100%|██████████| 2/2 [00:00<00:00,  4.67it/s]\n"
     ]
    },
    {
     "name": "stdout",
     "output_type": "stream",
     "text": [
      "Epoch 7 - Learning Rate: 0.001 - KL theta: 1.37 - Rec loss: 16.66 - PLoss: 88.13 - NELBO: 106.16 - L_d:1.9652979373931885 - L_w: 83.15882873535156 - L_c:91.13694381713867 -\n",
      "other\tstar\tdemo\ttext\ttopic\tscifi\tgun\texample\tcontain\n",
      "scifi\tgun\tstar\texample\tdemo\tother\ttext\tcontain\ttopic\n",
      "train epoch: 8\n"
     ]
    },
    {
     "name": "stderr",
     "output_type": "stream",
     "text": [
      "batch 8: 100%|██████████| 2/2 [00:00<00:00,  4.77it/s]"
     ]
    },
    {
     "name": "stdout",
     "output_type": "stream",
     "text": [
      "Epoch 8 - Learning Rate: 0.001 - KL theta: 1.52 - Rec loss: 18.54 - PLoss: 80.85 - NELBO: 100.91 - L_d:0.760623387992382 - L_w: 83.887939453125 - L_c:77.05241012573242 -\n",
      "other\tstar\tdemo\ttext\ttopic\tscifi\tgun\texample\tcontain\n",
      "scifi\tgun\tstar\texample\tdemo\tother\ttext\tcontain\ttopic\n",
      "Visualizing ...\n",
      "              precision    recall  f1-score   support\n",
      "\n",
      "           0       0.67      1.00      0.80         2\n",
      "           1       1.00      0.50      0.67         2\n",
      "\n",
      "    accuracy                           0.75         4\n",
      "   macro avg       0.83      0.75      0.73         4\n",
      "weighted avg       0.83      0.75      0.73         4\n",
      "\n"
     ]
    },
    {
     "name": "stderr",
     "output_type": "stream",
     "text": [
      "\n"
     ]
    },
    {
     "data": {
      "image/png": "[encoded data removed]",
      "text/plain": [
       "<Figure size 640x480 with 2 Axes>"
      ]
     },
     "metadata": {},
     "output_type": "display_data"
    },
    {
     "name": "stdout",
     "output_type": "stream",
     "text": [
      "Done.\n",
      "train epoch: 9\n"
     ]
    },
    {
     "name": "stderr",
     "output_type": "stream",
     "text": [
      "batch 9: 100%|██████████| 2/2 [00:00<00:00,  4.52it/s]\n"
     ]
    },
    {
     "name": "stdout",
     "output_type": "stream",
     "text": [
      "Epoch 9 - Learning Rate: 0.001 - KL theta: 1.67 - Rec loss: 25.86 - PLoss: 59.23 - NELBO: 86.76 - L_d:2.9079604744911194 - L_w: 83.31663131713867 - L_c:32.23128700256348 -\n",
      "other\tstar\tdemo\ttext\ttopic\tscifi\tgun\texample\tcontain\n",
      "scifi\tgun\tstar\texample\tdemo\tother\ttext\tcontain\ttopic\n",
      "train epoch: 10\n"
     ]
    },
    {
     "name": "stderr",
     "output_type": "stream",
     "text": [
      "batch 10: 100%|██████████| 2/2 [00:00<00:00,  4.75it/s]"
     ]
    },
    {
     "name": "stdout",
     "output_type": "stream",
     "text": [
      "Epoch 10 - Learning Rate: 0.001 - KL theta: 1.83 - Rec loss: 23.51 - PLoss: 68.48 - NELBO: 93.82 - L_d:1.3000773191452026 - L_w: 83.19610977172852 - L_c:52.4650993347168 -\n",
      "other\tstar\tdemo\ttext\ttopic\tscifi\tgun\texample\tcontain\n",
      "scifi\tgun\tstar\texample\tdemo\tother\ttext\tcontain\ttopic\n",
      "Visualizing ...\n",
      "              precision    recall  f1-score   support\n",
      "\n",
      "           0       1.00      1.00      1.00         2\n",
      "           1       1.00      1.00      1.00         2\n",
      "\n",
      "    accuracy                           1.00         4\n",
      "   macro avg       1.00      1.00      1.00         4\n",
      "weighted avg       1.00      1.00      1.00         4\n",
      "\n"
     ]
    },
    {
     "name": "stderr",
     "output_type": "stream",
     "text": [
      "\n"
     ]
    },
    {
     "data": {
      "image/png": "[encoded data removed]",
      "text/plain": [
       "<Figure size 640x480 with 2 Axes>"
      ]
     },
     "metadata": {},
     "output_type": "display_data"
    },
    {
     "name": "stdout",
     "output_type": "stream",
     "text": [
      "Done.\n",
      "train epoch: 11\n"
     ]
    },
    {
     "name": "stderr",
     "output_type": "stream",
     "text": [
      "batch 11: 100%|██████████| 2/2 [00:00<00:00,  4.55it/s]\n"
     ]
    },
    {
     "name": "stdout",
     "output_type": "stream",
     "text": [
      "Epoch 11 - Learning Rate: 0.001 - KL theta: 1.94 - Rec loss: 25.44 - PLoss: 83.28 - NELBO: 110.66 - L_d:3.863619089126587 - L_w: 83.30661010742188 - L_c:79.38110160827637 -\n",
      "other\tstar\tdemo\ttext\ttopic\tscifi\tgun\texample\tcontain\n",
      "scifi\tgun\tstar\texample\tdemo\tother\ttext\tcontain\ttopic\n",
      "train epoch: 12\n"
     ]
    },
    {
     "name": "stderr",
     "output_type": "stream",
     "text": [
      "batch 12: 100%|██████████| 2/2 [00:00<00:00,  4.66it/s]"
     ]
    },
    {
     "name": "stdout",
     "output_type": "stream",
     "text": [
      "Epoch 12 - Learning Rate: 0.001 - KL theta: 2.13 - Rec loss: 17.31 - PLoss: 89.94 - NELBO: 109.38 - L_d:1.9866053462028503 - L_w: 83.47758483886719 - L_c:94.42153930664062 -\n",
      "other\tstar\tdemo\ttext\ttopic\tscifi\tgun\texample\tcontain\n",
      "scifi\tgun\tstar\texample\tdemo\tother\ttext\tcontain\ttopic\n",
      "Visualizing ...\n",
      "              precision    recall  f1-score   support\n",
      "\n",
      "           0       1.00      1.00      1.00         2\n",
      "           1       1.00      1.00      1.00         2\n",
      "\n",
      "    accuracy                           1.00         4\n",
      "   macro avg       1.00      1.00      1.00         4\n",
      "weighted avg       1.00      1.00      1.00         4\n",
      "\n"
     ]
    },
    {
     "name": "stderr",
     "output_type": "stream",
     "text": [
      "\n"
     ]
    },
    {
     "data": {
      "image/png": "[encoded data removed]",
      "text/plain": [
       "<Figure size 640x480 with 2 Axes>"
      ]
     },
     "metadata": {},
     "output_type": "display_data"
    },
    {
     "name": "stdout",
     "output_type": "stream",
     "text": [
      "Done.\n",
      "train epoch: 13\n"
     ]
    },
    {
     "name": "stderr",
     "output_type": "stream",
     "text": [
      "batch 13: 100%|██████████| 2/2 [00:00<00:00,  4.61it/s]\n"
     ]
    },
    {
     "name": "stdout",
     "output_type": "stream",
     "text": [
      "Epoch 13 - Learning Rate: 0.001 - KL theta: 2.27 - Rec loss: 16.72 - PLoss: 84.75 - NELBO: 103.74 - L_d:2.527173697948456 - L_w: 83.45384979248047 - L_c:83.51063537597656 -\n",
      "other\tstar\tdemo\ttext\ttopic\tscifi\tgun\texample\tcontain\n",
      "scifi\tgun\tstar\texample\tdemo\tother\ttext\tcontain\ttopic\n",
      "train epoch: 14\n"
     ]
    },
    {
     "name": "stderr",
     "output_type": "stream",
     "text": [
      "batch 14: 100%|██████████| 2/2 [00:00<00:00,  4.56it/s]"
     ]
    },
    {
     "name": "stdout",
     "output_type": "stream",
     "text": [
      "Epoch 14 - Learning Rate: 0.001 - KL theta: 2.42 - Rec loss: 16.59 - PLoss: 76.46 - NELBO: 95.47 - L_d:1.982013463973999 - L_w: 85.09788131713867 - L_c:65.83943176269531 -\n",
      "other\tstar\tdemo\ttext\ttopic\tscifi\tgun\texample\tcontain\n",
      "scifi\tgun\tstar\texample\tdemo\tother\ttext\tcontain\ttopic\n",
      "Visualizing ...\n",
      "              precision    recall  f1-score   support\n",
      "\n",
      "           0       1.00      1.00      1.00         2\n",
      "           1       1.00      1.00      1.00         2\n",
      "\n",
      "    accuracy                           1.00         4\n",
      "   macro avg       1.00      1.00      1.00         4\n",
      "weighted avg       1.00      1.00      1.00         4\n",
      "\n"
     ]
    },
    {
     "name": "stderr",
     "output_type": "stream",
     "text": [
      "\n"
     ]
    },
    {
     "data": {
      "image/png": "[encoded data removed]",
      "text/plain": [
       "<Figure size 640x480 with 2 Axes>"
      ]
     },
     "metadata": {},
     "output_type": "display_data"
    },
    {
     "name": "stdout",
     "output_type": "stream",
     "text": [
      "Done.\n",
      "train epoch: 15\n"
     ]
    },
    {
     "name": "stderr",
     "output_type": "stream",
     "text": [
      "batch 15: 100%|██████████| 2/2 [00:00<00:00,  4.36it/s]\n"
     ]
    },
    {
     "name": "stdout",
     "output_type": "stream",
     "text": [
      "Epoch 15 - Learning Rate: 0.001 - KL theta: 2.56 - Rec loss: 19.42 - PLoss: 60.4 - NELBO: 82.38 - L_d:0.9725400805473328 - L_w: 83.11006927490234 - L_c:36.717007637023926 -\n",
      "other\tstar\tdemo\ttext\ttopic\tscifi\tgun\texample\tcontain\n",
      "scifi\tgun\tstar\texample\tdemo\tother\ttext\tcontain\ttopic\n",
      "train epoch: 16\n"
     ]
    },
    {
     "name": "stderr",
     "output_type": "stream",
     "text": [
      "batch 16: 100%|██████████| 2/2 [00:00<00:00,  4.52it/s]"
     ]
    },
    {
     "name": "stdout",
     "output_type": "stream",
     "text": [
      "Epoch 16 - Learning Rate: 0.001 - KL theta: 2.73 - Rec loss: 23.16 - PLoss: 57.27 - NELBO: 83.16 - L_d:1.5022244453430176 - L_w: 84.19282150268555 - L_c:28.846290588378906 -\n",
      "other\tstar\tdemo\ttext\ttopic\tscifi\tgun\texample\tcontain\n",
      "scifi\tgun\tstar\texample\tdemo\tother\ttext\tcontain\ttopic\n",
      "Visualizing ...\n",
      "              precision    recall  f1-score   support\n",
      "\n",
      "           0       1.00      0.50      0.67         2\n",
      "           1       0.67      1.00      0.80         2\n",
      "\n",
      "    accuracy                           0.75         4\n",
      "   macro avg       0.83      0.75      0.73         4\n",
      "weighted avg       0.83      0.75      0.73         4\n",
      "\n"
     ]
    },
    {
     "name": "stderr",
     "output_type": "stream",
     "text": [
      "\n"
     ]
    },
    {
     "data": {
      "image/png": "[encoded data removed]",
      "text/plain": [
       "<Figure size 640x480 with 2 Axes>"
      ]
     },
     "metadata": {},
     "output_type": "display_data"
    },
    {
     "name": "stdout",
     "output_type": "stream",
     "text": [
      "Done.\n",
      "train epoch: 17\n"
     ]
    },
    {
     "name": "stderr",
     "output_type": "stream",
     "text": [
      "batch 17: 100%|██████████| 2/2 [00:00<00:00,  4.60it/s]\n"
     ]
    },
    {
     "name": "stdout",
     "output_type": "stream",
     "text": [
      "Epoch 17 - Learning Rate: 0.001 - KL theta: 2.85 - Rec loss: 17.44 - PLoss: 78.17 - NELBO: 98.46 - L_d:2.628987193107605 - L_w: 83.83577728271484 - L_c:69.87370300292969 -\n",
      "other\tstar\tdemo\ttext\ttopic\tscifi\tgun\texample\tcontain\n",
      "scifi\tgun\tstar\texample\tdemo\tother\ttext\tcontain\ttopic\n",
      "train epoch: 18\n"
     ]
    },
    {
     "name": "stderr",
     "output_type": "stream",
     "text": [
      "batch 18: 100%|██████████| 2/2 [00:00<00:00,  4.59it/s]"
     ]
    },
    {
     "name": "stdout",
     "output_type": "stream",
     "text": [
      "Epoch 18 - Learning Rate: 0.001 - KL theta: 3.0 - Rec loss: 19.13 - PLoss: 67.02 - NELBO: 89.15 - L_d:1.1043940484523773 - L_w: 83.37975692749023 - L_c:49.550357818603516 -\n",
      "other\tstar\tdemo\ttext\ttopic\tscifi\tgun\texample\tcontain\n",
      "scifi\tgun\tstar\texample\tdemo\tother\ttext\tcontain\ttopic\n",
      "Visualizing ...\n",
      "              precision    recall  f1-score   support\n",
      "\n",
      "           0       0.33      0.50      0.40         2\n",
      "           1       0.00      0.00      0.00         2\n",
      "\n",
      "    accuracy                           0.25         4\n",
      "   macro avg       0.17      0.25      0.20         4\n",
      "weighted avg       0.17      0.25      0.20         4\n",
      "\n"
     ]
    },
    {
     "name": "stderr",
     "output_type": "stream",
     "text": [
      "\n"
     ]
    },
    {
     "data": {
      "image/png": "[encoded data removed]",
      "text/plain": [
       "<Figure size 640x480 with 2 Axes>"
      ]
     },
     "metadata": {},
     "output_type": "display_data"
    },
    {
     "name": "stdout",
     "output_type": "stream",
     "text": [
      "Done.\n",
      "train epoch: 19\n"
     ]
    },
    {
     "name": "stderr",
     "output_type": "stream",
     "text": [
      "batch 19: 100%|██████████| 2/2 [00:00<00:00,  4.58it/s]"
     ]
    },
    {
     "name": "stdout",
     "output_type": "stream",
     "text": [
      "Epoch 19 - Learning Rate: 0.001 - KL theta: 2.98 - Rec loss: 16.36 - PLoss: 82.55 - NELBO: 101.89 - L_d:2.753851056098938 - L_w: 83.13011169433594 - L_c:79.208251953125 -\n",
      "other\tstar\tdemo\ttext\ttopic\tscifi\tgun\texample\tcontain\n",
      "scifi\tgun\tstar\texample\tdemo\tother\ttext\tcontain\ttopic\n",
      "Data/DemoData\\result\n",
      "[['other', 'star', 'demo', 'text', 'topic', 'scifi', 'gun', 'example', 'contain'], ['scifi', 'gun', 'star', 'example', 'demo', 'other', 'text', 'contain', 'topic']]\n"
     ]
    },
    {
     "name": "stderr",
     "output_type": "stream",
     "text": [
      "\n"
     ]
    }
   ],
   "source": [
    "# original Code is from the model keyETM and was modified for seededNTM. Parts that are copied are marked as source:keyETM\n",
    "\n",
    "# author of the changes: Eric Kropf (00Shiwa00)\n",
    "\n",
    "# this demo file should be copied and modified according to your needs!\n",
    "\n",
    "%matplotlib inline\n",
    "import os\n",
    "import pickle\n",
    "import pandas as pd\n",
    "import torch\n",
    "import yaml\n",
    "from utils import embedding, preprocessing\n",
    "import os.path as osp\n",
    "from gensim.models import Word2Vec, KeyedVectors\n",
    "import numpy as np\n",
    "import SNTM\n",
    "import importlib\n",
    "from utils.word_level_augment import get_data_stats, word_level_augment\n",
    "\n",
    "\n",
    "\n",
    "device = torch.device(\"cuda\" if torch.cuda.is_available() else \"cpu\")\n",
    "#source: keyETM\n",
    "def write_in_format(res_path,file_name,words,topic_words):\n",
    "    if not os.path.exists(res_path):\n",
    "        os.makedirs(res_path)\n",
    "    topic_words_dict = {}\n",
    "    words_list = words[0]\n",
    "    for topic_w,topic_idx in zip(topic_words,range(1,len(words)+1)):\n",
    "        order_index=topic_w.numpy().argsort()[::-1].tolist()\n",
    "        final_list = []\n",
    "        for idx in order_index:\n",
    "           final_list.append((words_list[idx],topic_w.numpy()[idx]))\n",
    "        topic_words_dict[\"Topic \"+str(topic_idx)]= final_list\n",
    "    with open(os.path.join(res_path,file_name), 'wb') as handle:\n",
    "         pickle.dump(topic_words_dict, handle, protocol=pickle.HIGHEST_PROTOCOL)\n",
    "#source: keyETM\n",
    "def write_to_file(res_path,file_name,results):\n",
    "    import os\n",
    "    if not os.path.exists(res_path):\n",
    "        os.makedirs(res_path)\n",
    "    if(torch.is_tensor(results)):\n",
    "         results = results.cpu()   \n",
    "         df = pd.DataFrame(results.numpy())\n",
    "    else:\n",
    "         df = pd.DataFrame(results)\n",
    "    if(file_name == \"doc_topic_dist.csv\"):\n",
    "         #df= df.drop(['Unnamed: 0'],axis=1)\n",
    "         labels = []\n",
    "         a = df.to_numpy()\n",
    "         for i in range(len(a)):\n",
    "             labels.append(np.asarray(a[i]).argmax())\n",
    "         with open(os.path.join(res_path,'ETM_labels_.csv'),'w') as f:\n",
    "             for item in labels:\n",
    "                 f.write(str(item))\n",
    "                 f.write(\"\\n\")\n",
    "                 \n",
    "    df.to_csv(os.path.join(res_path,file_name))\n",
    "\n",
    "#source: keyETM and adapted for seededNTM\n",
    "with open(\"configs/DemoConfig.yaml\", 'r') as ymlfile:\n",
    "        config = yaml.load(ymlfile, Loader=yaml.FullLoader)\n",
    "\n",
    "config_dataset = config['dataset']\n",
    "res_data_path = osp.join(\n",
    "    config_dataset['folder-path'], config_dataset['result-file'])\n",
    "# check if the result folder exists, if not, create it (prevents error when trying to save the results)\n",
    "if not os.path.exists(res_data_path):\n",
    "        os.makedirs(res_data_path)\n",
    "data_path = osp.join(\n",
    "    config_dataset['folder-path'], config_dataset['data-file'])\n",
    "seedword_path = osp.join(\n",
    "    config_dataset['folder-path'], config_dataset['sw-file'])\n",
    "config_model = config['model']\n",
    "bs = config_model['bs']\n",
    "nt = config_model['nt']\n",
    "epochs = config_model['epochs']\n",
    "lambda_0 = config_model['lambda_0']\n",
    "lambda_1 = config_model['lambda_1']\n",
    "lambda_2 = config_model['lambda_2']\n",
    "lambda_3 = config_model['lambda_3']\n",
    "kappa = config_model['kappa']\n",
    "tau = config_model['tau']\n",
    "drop_out = config_model['drop_out']\n",
    "theta_act = config_model['theta_act']\n",
    "\n",
    "lr = config_model['lr']\n",
    "model_path = config_model['path']\n",
    "\n",
    "df = pd.read_csv(data_path)\n",
    "documents = df[\"text_cleaned\"].tolist()\n",
    "\n",
    "seedwords = preprocessing.read_seedword(seedword_path)\n",
    "#source: keyETM\n",
    "vocabulary, train_dataset, test_dataset = preprocessing.create_etm_datasets(\n",
    "                                documents,\n",
    "                                min_df=0,\n",
    "                                max_df=1.0,\n",
    "                                train_size=1.0,\n",
    "                                debug_mode=True\n",
    "                                )\n",
    "\n",
    "# print the seedWords not used in the model because they are not in the vocabulary\n",
    "print(\"\\n\")\n",
    "for k in range(len(seedwords)):\n",
    "    notused = list()\n",
    "    for sw in seedwords[k]:\n",
    "    \n",
    "        if sw not in vocabulary:\n",
    "            notused.append(sw)\n",
    "    if len(notused) != 0:   \n",
    "        print(\"seedWords not used in Topic\",k,\":\",notused)\n",
    "\n",
    "\n",
    "#source: keyETM\n",
    "if os.path.exists(os.path.join(model_path,'embeddings_mapping.kv')):\n",
    "    embeddings_mapping = KeyedVectors.load(os.path.join(model_path,'embeddings_mapping.kv'))\n",
    "    with open(os.path.join(model_path,'vocabulary.pickle'), 'rb') as handle:\n",
    "        vocabulary =pickle.load(handle)\n",
    "    with open(os.path.join(model_path,'train.pickle'), 'rb') as handle:\n",
    "        train_dataset = pickle.load(handle)\n",
    "    \n",
    "        \n",
    "else:\n",
    "    embeddings_mapping = embedding.create_word2vec_embedding_from_dataset(documents)\n",
    "    #additional check for the folder path and create it if it doesn't exist\n",
    "    if not os.path.exists(model_path):\n",
    "        os.makedirs(model_path)\n",
    "    embeddings_mapping.save(os.path.join(model_path,'embeddings_mapping.kv')) \n",
    "    df = pd.read_csv(data_path)\n",
    "    documents = df[\"text_cleaned\"].tolist()\n",
    "    vocabulary, train_dataset, test_dataset = preprocessing.create_etm_datasets(\n",
    "                            documents,\n",
    "                            min_df=0,\n",
    "                            max_df=1.0,\n",
    "                            train_size=1.0,\n",
    "                            )\n",
    "    with open(os.path.join(model_path,'train.pickle'), 'wb') as handle:\n",
    "        pickle.dump(train_dataset, handle, protocol=pickle.HIGHEST_PROTOCOL)\n",
    "    with open(os.path.join(model_path,'vocabulary.pickle'), 'wb') as handle:\n",
    "        pickle.dump(vocabulary, handle, protocol=pickle.HIGHEST_PROTOCOL)\n",
    "\n",
    "\n",
    "tensor_token_list = list()\n",
    "tensor_count_list = list()\n",
    "tensor_bow_list = list()\n",
    "documents_filtered = list()\n",
    "categoryIds = list()\n",
    "words = list()\n",
    "for i in range(len(train_dataset['tokens'])):\n",
    "    #filter out documents with no tokens or with only one token\n",
    "    if train_dataset['counts'][i].sum() > 1:\n",
    "        t = torch.as_tensor(train_dataset['tokens'][i].astype(int))\n",
    "        t.to(device)\n",
    "        tensor_token_list.append(t)\n",
    "        t=torch.as_tensor(train_dataset['counts'][i].astype(int))\n",
    "        t.to(device)\n",
    "        tensor_count_list.append(t)\n",
    "        t=torch.from_numpy(np.array(train_dataset['bow'][i]).astype(int))\n",
    "        t = t.to(device)\n",
    "        tensor_bow_list.append(t)\n",
    "        documents_filtered.append(documents[i])\n",
    "        categoryIds.append(df['CategoryId'].tolist()[i])\n",
    "        words.append(train_dataset['words'][i])\n",
    "documents_unfiltered = documents\n",
    "documents = documents_filtered\n",
    "tensor_train_dataset = dict()\n",
    "tensor_train_dataset[\"tokens\"] = tensor_token_list\n",
    "tensor_train_dataset[\"counts\"] = tensor_count_list\n",
    "tensor_train_dataset[\"bow\"] = tensor_bow_list\n",
    "tensor_train_dataset['words'] = words\n",
    "\n",
    "#apply the word_level_augmentation on the dataset\n",
    "examples = tensor_train_dataset['words']\n",
    "data_stats = get_data_stats(examples=examples)\n",
    "wla = word_level_augment(examples=examples, data_stats=data_stats, aug_ops=\"tf_idf-0.1\", vocab=vocabulary)\n",
    "tensor_train_dataset[\"word_level_augment\"] = wla\n",
    "#create model\n",
    "SNTM_instance = SNTM.SNTM(\n",
    "                   vocabulary,\n",
    "                   batch_size = bs,\n",
    "                   embeddings=embeddings_mapping,\n",
    "                   num_topics=nt,\n",
    "                   lambda_0=lambda_0,\n",
    "                   lambda_1=lambda_1,\n",
    "                   lambda_2=lambda_2,\n",
    "                   lambda_3=lambda_3,\n",
    "                   kappa=kappa,\n",
    "                   epochs=epochs,\n",
    "                   enc_drop = drop_out,\n",
    "                   theta_act = theta_act,\n",
    "                   t_hidden_size=256,\n",
    "                   lr = lr,\n",
    "                   train_embeddings=False,\n",
    "                   visualize_every=2,\n",
    "                   m=preprocessing.create_mu(vocab=vocabulary, corpus=documents)\n",
    "                   )\n",
    "#train the model\n",
    "sntm = SNTM_instance.fit(train_data= tensor_train_dataset,\n",
    "                         theta_hat_d_k= preprocessing.create_theta_hat(documents,seedwords, vocabulary),\n",
    "                         phi_hat_n_k= preprocessing.create_phi_hat(documents, vocabulary, seedwords, tau = tau),\n",
    "                         backgroundWordFrequencies= preprocessing.create_mu(vocab=vocabulary, corpus=documents), \n",
    "                         seedWordIndices= preprocessing.get_seedWordIndices(vocabulary, seedwords),\n",
    "                         CategoryIds = categoryIds)\n",
    "\n",
    "\n",
    "#source: keyETM\n",
    "#print and save the results\n",
    "topics = SNTM_instance.get_topics(20)\n",
    "topic_word = SNTM_instance.get_topic_word_dist().cpu()\n",
    "word_matrix = SNTM_instance.get_topic_word_matrix()\n",
    "print(res_data_path)\n",
    "write_to_file(res_data_path,'word_topic_dist.csv',topic_word)\n",
    "write_to_file(res_data_path,'doc_topic_dist.csv',SNTM_instance.get_document_topic_dist())\n",
    "write_to_file(res_data_path,'word_matrix.csv',word_matrix)\n",
    "write_in_format(res_data_path,'formatted_topic_word.pickle',word_matrix,topic_word)\n",
    "print(topics)   "
   ]
  }
 ],
 "metadata": {
  "kernelspec": {
   "display_name": "base",
   "language": "python",
   "name": "python3"
  },
  "language_info": {
   "codemirror_mode": {
    "name": "ipython",
    "version": 3
   },
   "file_extension": ".py",
   "mimetype": "text/x-python",
   "name": "python",
   "nbconvert_exporter": "python",
   "pygments_lexer": "ipython3",
   "version": "3.11.7"
  }
 },
 "nbformat": 4,
 "nbformat_minor": 2
}
